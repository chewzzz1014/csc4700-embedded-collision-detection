{
  "nbformat": 4,
  "nbformat_minor": 0,
  "metadata": {
    "colab": {
      "provenance": [],
      "authorship_tag": "ABX9TyOJ0Fd+A205dcyySuKnHnK+",
      "include_colab_link": true
    },
    "kernelspec": {
      "name": "python3",
      "display_name": "Python 3"
    },
    "language_info": {
      "name": "python"
    }
  },
  "cells": [
    {
      "cell_type": "markdown",
      "metadata": {
        "id": "view-in-github",
        "colab_type": "text"
      },
      "source": [
        "<a href=\"https://colab.research.google.com/github/chewzzz1014/csc4700-embedded-collision-detection/blob/master/src/train_collision_model.ipynb\" target=\"_parent\"><img src=\"https://colab.research.google.com/assets/colab-badge.svg\" alt=\"Open In Colab\"/></a>"
      ]
    },
    {
      "cell_type": "code",
      "execution_count": null,
      "metadata": {
        "id": "jy8xTSCCFq_d"
      },
      "outputs": [],
      "source": [
        "import pandas as pd\n",
        "import numpy as np\n",
        "from sklearn.model_selection import train_test_split\n",
        "from sklearn.ensemble import RandomForestClassifier\n",
        "from sklearn.metrics import accuracy_score, classification_report\n",
        "import joblib"
      ]
    },
    {
      "cell_type": "code",
      "source": [
        "csv_path_no_collision = \"is_collision = 0 data.csv\"\n",
        "csv_path_collision = \"is_collision = 1 data.csv\"\n",
        "\n",
        "df_no_collision = pd.read_csv(csv_path_no_collision)\n",
        "df_collision = pd.read_csv(csv_path_collision)\n",
        "df = pd.concat([df_no_collision, df_collision], ignore_index=True)"
      ],
      "metadata": {
        "id": "X2B3VmfbJS8W"
      },
      "execution_count": null,
      "outputs": []
    },
    {
      "cell_type": "code",
      "source": [
        "# Feature engineering: Extract statistical features for each batch_id\n",
        "def extract_features(group):\n",
        "    features = {\n",
        "        \"x_mean\": group[\"x\"].mean(),\n",
        "        \"x_std\": group[\"x\"].std(),\n",
        "        \"x_min\": group[\"x\"].min(),\n",
        "        \"x_max\": group[\"x\"].max(),\n",
        "        \"y_mean\": group[\"y\"].mean(),\n",
        "        \"y_std\": group[\"y\"].std(),\n",
        "        \"y_min\": group[\"y\"].min(),\n",
        "        \"y_max\": group[\"y\"].max(),\n",
        "        \"z_mean\": group[\"z\"].mean(),\n",
        "        \"z_std\": group[\"z\"].std(),\n",
        "        \"z_min\": group[\"z\"].min(),\n",
        "        \"z_max\": group[\"z\"].max(),\n",
        "    }\n",
        "    return pd.Series(features)\n",
        "\n",
        "# Apply feature extraction\n",
        "features = df.groupby(\"batch_id\").apply(extract_features).reset_index()\n",
        "labels = df.groupby(\"batch_id\")[\"is_collision\"].first().reset_index(name=\"is_collision\")"
      ],
      "metadata": {
        "id": "3-LKr9jNJWuA"
      },
      "execution_count": null,
      "outputs": []
    },
    {
      "cell_type": "code",
      "source": [
        "data = pd.merge(features, labels, on=\"batch_id\")\n",
        "\n",
        "# Split data into train and test sets\n",
        "X = data.drop(columns=[\"batch_id\", \"is_collision\"])\n",
        "y = data[\"is_collision\"]\n",
        "X_train, X_test, y_train, y_test = train_test_split(X, y, test_size=0.2, random_state=42)"
      ],
      "metadata": {
        "id": "B9QUIBw4Jcdq"
      },
      "execution_count": null,
      "outputs": []
    },
    {
      "cell_type": "code",
      "source": [
        "clf = RandomForestClassifier(random_state=42)\n",
        "clf.fit(X_train, y_train)\n",
        "\n",
        "# Export trained model\n",
        "joblib.dump(clf, \"collision_clf_model.pkl\")"
      ],
      "metadata": {
        "id": "LHQzDGtHJfpS"
      },
      "execution_count": null,
      "outputs": []
    },
    {
      "cell_type": "code",
      "source": [
        "y_pred = clf.predict(X_test)\n",
        "print(\"Accuracy:\", accuracy_score(y_test, y_pred))\n",
        "print(\"Classification Report:\\n\", classification_report(y_test, y_pred))"
      ],
      "metadata": {
        "id": "Qu0KTtYYJiAa"
      },
      "execution_count": null,
      "outputs": []
    },
    {
      "cell_type": "code",
      "source": [
        "new_batch = pd.DataFrame({\n",
        "    \"x\": [-2.04, -2.12, -1.96, -2.08, -2.24],\n",
        "    \"y\": [0.75, 0.86, 0.67, 0.39, 0.51],\n",
        "    \"z\": [-9.06, -9.34, -8.98, -8.90, -9.02]\n",
        "})\n",
        "new_features = extract_features(new_batch)\n",
        "print(\"Prediction for new batch:\", clf.predict([new_features]))"
      ],
      "metadata": {
        "id": "ZGyPb25mJiTy"
      },
      "execution_count": null,
      "outputs": []
    }
  ]
}